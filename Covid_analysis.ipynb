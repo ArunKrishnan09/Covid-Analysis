{
  "nbformat": 4,
  "nbformat_minor": 0,
  "metadata": {
    "colab": {
      "provenance": [],
      "authorship_tag": "ABX9TyMD7ZBpL/N4k3yPLF5LeZJm",
      "include_colab_link": true
    },
    "kernelspec": {
      "name": "python3",
      "display_name": "Python 3"
    },
    "language_info": {
      "name": "python"
    }
  },
  "cells": [
    {
      "cell_type": "markdown",
      "metadata": {
        "id": "view-in-github",
        "colab_type": "text"
      },
      "source": [
        "<a href=\"https://colab.research.google.com/github/ArunKrishnan09/Covid-Analysis/blob/main/Covid_analysis.ipynb\" target=\"_parent\"><img src=\"https://colab.research.google.com/assets/colab-badge.svg\" alt=\"Open In Colab\"/></a>"
      ]
    },
    {
      "cell_type": "code",
      "source": [
        "import pandas as pd\n",
        "import matplotlib.pyplot as plt\n",
        "import seaborn as sns\n",
        "import warnings"
      ],
      "metadata": {
        "id": "Rf6sQSIYe68X"
      },
      "execution_count": 1,
      "outputs": []
    },
    {
      "cell_type": "code",
      "source": [
        "from google.colab import drive\n",
        "drive.mount('/content/drive')"
      ],
      "metadata": {
        "colab": {
          "base_uri": "https://localhost:8080/"
        },
        "id": "S70vuTk6fAti",
        "outputId": "aad25218-36a6-4690-c47c-6e9872f3dd7c"
      },
      "execution_count": 2,
      "outputs": [
        {
          "output_type": "stream",
          "name": "stdout",
          "text": [
            "Mounted at /content/drive\n"
          ]
        }
      ]
    },
    {
      "cell_type": "code",
      "source": [
        "import os\n",
        "os.chdir(\"/content/drive/MyDrive/Arun-ads1/Covid project\")"
      ],
      "metadata": {
        "id": "YubmxnCufCII"
      },
      "execution_count": 3,
      "outputs": []
    },
    {
      "cell_type": "code",
      "source": [
        "misc_data = pd.read_csv(\"OWID_COVID_Data.csv\")"
      ],
      "metadata": {
        "id": "xH2w22-Zf_XH"
      },
      "execution_count": 4,
      "outputs": []
    },
    {
      "cell_type": "code",
      "execution_count": 5,
      "metadata": {
        "id": "1IxJK955Ixx_"
      },
      "outputs": [],
      "source": [
        "urls = [\"https://catalog.ourworldindata.org/garden/covid/latest/cases_deaths/cases_deaths.csv\", \"https://catalog.ourworldindata.org/garden/covid/latest/hospital/hospital.csv\", \"https://catalog.ourworldindata.org/garden/covid/latest/vaccinations_global/vaccinations_global.csv\", \"https://catalog.ourworldindata.org/garden/covid/latest/vaccinations_age/vaccinations_age.csv\", \"https://catalog.ourworldindata.org/garden/covid/latest/testing/testing.csv\", \"https://catalog.ourworldindata.org/garden/covid/latest/google_mobility/google_mobility.csv\", \"https://catalog.ourworldindata.org/garden/covid/latest/oxcgrt_policy/oxcgrt_policy.csv\"]"
      ]
    }
  ]
}