{
  "nbformat": 4,
  "nbformat_minor": 0,
  "metadata": {
    "colab": {
      "provenance": [],
      "authorship_tag": "ABX9TyNm6UVC1we7kfay+pUkemgX",
      "include_colab_link": true
    },
    "kernelspec": {
      "name": "python3",
      "display_name": "Python 3"
    },
    "language_info": {
      "name": "python"
    }
  },
  "cells": [
    {
      "cell_type": "markdown",
      "metadata": {
        "id": "view-in-github",
        "colab_type": "text"
      },
      "source": [
        "<a href=\"https://colab.research.google.com/github/ArunKrishnan09/Covid-Analysis/blob/main/Covid_analysis.ipynb\" target=\"_parent\"><img src=\"https://colab.research.google.com/assets/colab-badge.svg\" alt=\"Open In Colab\"/></a>"
      ]
    },
    {
      "cell_type": "code",
      "source": [
        "import pandas as pd\n",
        "import matplotlib.pyplot as plt\n",
        "import seaborn as sns\n",
        "import warnings"
      ],
      "metadata": {
        "id": "Rf6sQSIYe68X"
      },
      "execution_count": null,
      "outputs": []
    },
    {
      "cell_type": "code",
      "source": [
        "from google.colab import drive\n",
        "drive.mount('/content/drive')"
      ],
      "metadata": {
        "id": "S70vuTk6fAti"
      },
      "execution_count": null,
      "outputs": []
    },
    {
      "cell_type": "code",
      "source": [
        "import os\n",
        "os.chdir(\"/content/drive/MyDrive/Arun-ads1/Covid \")"
      ],
      "metadata": {
        "id": "YubmxnCufCII"
      },
      "execution_count": null,
      "outputs": []
    },
    {
      "cell_type": "code",
      "execution_count": null,
      "metadata": {
        "id": "1IxJK955Ixx_"
      },
      "outputs": [],
      "source": [
        "urls = [\"https://catalog.ourworldindata.org/garden/covid/latest/cases_deaths/cases_deaths.csv\", \"https://catalog.ourworldindata.org/garden/covid/latest/hospital/hospital.csv\", \"https://catalog.ourworldindata.org/garden/covid/latest/vaccinations_global/vaccinations_global.csv\", \"https://catalog.ourworldindata.org/garden/covid/latest/vaccinations_age/vaccinations_age.csv\", \"https://catalog.ourworldindata.org/garden/covid/latest/testing/testing.csv\", \"https://catalog.ourworldindata.org/garden/covid/latest/google_mobility/google_mobility.csv\", \"https://catalog.ourworldindata.org/garden/covid/latest/oxcgrt_policy/oxcgrt_policy.csv\"]"
      ]
    }
  ]
}